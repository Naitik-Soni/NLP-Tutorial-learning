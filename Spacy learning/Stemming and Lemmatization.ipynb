{
 "cells": [
  {
   "cell_type": "code",
   "execution_count": 2,
   "id": "7a9bd55f-5ceb-4066-9391-c46d15e7edc8",
   "metadata": {},
   "outputs": [],
   "source": [
    "import spacy\n",
    "import nltk"
   ]
  },
  {
   "cell_type": "code",
   "execution_count": 4,
   "id": "05975cfb-4d68-4636-9816-9673d4fa810d",
   "metadata": {},
   "outputs": [],
   "source": [
    "from nltk.stem import PorterStemmer\n",
    "\n",
    "stemmer = PorterStemmer()"
   ]
  },
  {
   "cell_type": "code",
   "execution_count": 8,
   "id": "3fd1a370-37be-44dd-88eb-6f4c5be744a2",
   "metadata": {},
   "outputs": [
    {
     "name": "stdout",
     "output_type": "stream",
     "text": [
      "eating --- eat\n",
      "eats --- eat\n",
      "eat --- eat\n",
      "ate --- ate\n",
      "adjustable --- adjust\n",
      "rafting --- raft\n",
      "ability --- abil\n",
      "meeting --- meet\n"
     ]
    }
   ],
   "source": [
    "words = [\"eating\", \"eats\", \"eat\", \"ate\", \"adjustable\", \"rafting\", \"ability\", \"meeting\"]\n",
    "\n",
    "for word in words:\n",
    "    print(word, \"---\",stemmer.stem(word))"
   ]
  },
  {
   "cell_type": "code",
   "execution_count": 10,
   "id": "6f9b510d-65bb-4398-afb5-355a45ff259a",
   "metadata": {},
   "outputs": [],
   "source": [
    "nlp = spacy.load(\"en_core_web_sm\")\n",
    "\n",
    "text = \" \".join(words)\n",
    "doc = nlp(text)"
   ]
  },
  {
   "cell_type": "code",
   "execution_count": 16,
   "id": "d7fb3d5c-f213-4876-8283-5cbd4d41edd6",
   "metadata": {},
   "outputs": [
    {
     "name": "stdout",
     "output_type": "stream",
     "text": [
      "eating ,  eat\n",
      "eats ,  eat\n",
      "eat ,  eat\n",
      "ate ,  eat\n",
      "adjustable ,  adjustable\n",
      "rafting ,  raft\n",
      "ability ,  ability\n",
      "meeting ,  meeting\n"
     ]
    }
   ],
   "source": [
    "for token in doc:\n",
    "    print(token, \", \", token.lemma_)"
   ]
  },
  {
   "cell_type": "code",
   "execution_count": 17,
   "id": "bb2ef46e-76ca-4477-a1bf-276c8d04dd28",
   "metadata": {},
   "outputs": [],
   "source": [
    "lst_words = ['running', 'painting', 'walking', 'dressing', 'likely', 'children', 'whom', 'good', 'ate', 'fishing']"
   ]
  },
  {
   "cell_type": "code",
   "execution_count": 18,
   "id": "906fdb55-0e7a-4263-aac0-1331caafc3a5",
   "metadata": {},
   "outputs": [],
   "source": [
    "doc = nlp(\" \".join(lst_words))"
   ]
  },
  {
   "cell_type": "code",
   "execution_count": 23,
   "id": "39697b9c-6193-4fea-8368-6484bd3ff00d",
   "metadata": {},
   "outputs": [
    {
     "name": "stdout",
     "output_type": "stream",
     "text": [
      "running , LEMMA: run , STEMMING: run\n",
      "painting , LEMMA: paint , STEMMING: paint\n",
      "walking , LEMMA: walk , STEMMING: walk\n",
      "dressing , LEMMA: dress , STEMMING: dress\n",
      "likely , LEMMA: likely , STEMMING: like\n",
      "children , LEMMA: child , STEMMING: children\n",
      "whom , LEMMA: whom , STEMMING: whom\n",
      "good , LEMMA: good , STEMMING: good\n",
      "ate , LEMMA: eat , STEMMING: ate\n",
      "fishing , LEMMA: fishing , STEMMING: fish\n"
     ]
    }
   ],
   "source": [
    "for token in doc:\n",
    "    print(token.text, \", LEMMA:\", token.lemma_, \", STEMMING:\", stemmer.stem(token.text))"
   ]
  },
  {
   "cell_type": "code",
   "execution_count": 24,
   "id": "bb903ef4-0a0d-4673-ae75-4330f462b0e6",
   "metadata": {},
   "outputs": [],
   "source": [
    "text = \"\"\"Latha is very multi talented girl.She is good at many skills like dancing, running, singing, playing.She also likes eating Pav Bhagi. she has a \n",
    "habit of fishing and swimming too.Besides all this, she is a wonderful at cooking too.\n",
    "\"\"\""
   ]
  },
  {
   "cell_type": "code",
   "execution_count": 27,
   "id": "7cc46584-4efb-40b3-91a2-3ad97a4dd1fa",
   "metadata": {},
   "outputs": [],
   "source": [
    "doc = nlp(text)"
   ]
  },
  {
   "cell_type": "code",
   "execution_count": 28,
   "id": "97ea1803-be4c-49e9-a071-e8a0656f624e",
   "metadata": {},
   "outputs": [
    {
     "name": "stdout",
     "output_type": "stream",
     "text": [
      "Latha , LEMMA: Latha , STEMMING: latha\n",
      "is , LEMMA: be , STEMMING: is\n",
      "very , LEMMA: very , STEMMING: veri\n",
      "multi , LEMMA: multi , STEMMING: multi\n",
      "talented , LEMMA: talented , STEMMING: talent\n",
      "girl , LEMMA: girl , STEMMING: girl\n",
      ". , LEMMA: . , STEMMING: .\n",
      "She , LEMMA: she , STEMMING: she\n",
      "is , LEMMA: be , STEMMING: is\n",
      "good , LEMMA: good , STEMMING: good\n",
      "at , LEMMA: at , STEMMING: at\n",
      "many , LEMMA: many , STEMMING: mani\n",
      "skills , LEMMA: skill , STEMMING: skill\n",
      "like , LEMMA: like , STEMMING: like\n",
      "dancing , LEMMA: dancing , STEMMING: danc\n",
      ", , LEMMA: , , STEMMING: ,\n",
      "running , LEMMA: running , STEMMING: run\n",
      ", , LEMMA: , , STEMMING: ,\n",
      "singing , LEMMA: singing , STEMMING: sing\n",
      ", , LEMMA: , , STEMMING: ,\n",
      "playing , LEMMA: play , STEMMING: play\n",
      ". , LEMMA: . , STEMMING: .\n",
      "She , LEMMA: she , STEMMING: she\n",
      "also , LEMMA: also , STEMMING: also\n",
      "likes , LEMMA: like , STEMMING: like\n",
      "eating , LEMMA: eat , STEMMING: eat\n",
      "Pav , LEMMA: Pav , STEMMING: pav\n",
      "Bhagi , LEMMA: Bhagi , STEMMING: bhagi\n",
      ". , LEMMA: . , STEMMING: .\n",
      "she , LEMMA: she , STEMMING: she\n",
      "has , LEMMA: have , STEMMING: ha\n",
      "a , LEMMA: a , STEMMING: a\n",
      "\n",
      " , LEMMA: \n",
      " , STEMMING: \n",
      "\n",
      "habit , LEMMA: habit , STEMMING: habit\n",
      "of , LEMMA: of , STEMMING: of\n",
      "fishing , LEMMA: fishing , STEMMING: fish\n",
      "and , LEMMA: and , STEMMING: and\n",
      "swimming , LEMMA: swim , STEMMING: swim\n",
      "too , LEMMA: too , STEMMING: too\n",
      ". , LEMMA: . , STEMMING: .\n",
      "Besides , LEMMA: besides , STEMMING: besid\n",
      "all , LEMMA: all , STEMMING: all\n",
      "this , LEMMA: this , STEMMING: thi\n",
      ", , LEMMA: , , STEMMING: ,\n",
      "she , LEMMA: she , STEMMING: she\n",
      "is , LEMMA: be , STEMMING: is\n",
      "a , LEMMA: a , STEMMING: a\n",
      "wonderful , LEMMA: wonderful , STEMMING: wonder\n",
      "at , LEMMA: at , STEMMING: at\n",
      "cooking , LEMMA: cook , STEMMING: cook\n",
      "too , LEMMA: too , STEMMING: too\n",
      ". , LEMMA: . , STEMMING: .\n",
      "\n",
      " , LEMMA: \n",
      " , STEMMING: \n",
      "\n"
     ]
    }
   ],
   "source": [
    "for token in doc:\n",
    "    print(token.text, \", LEMMA:\", token.lemma_, \", STEMMING:\", stemmer.stem(token.text))"
   ]
  },
  {
   "cell_type": "code",
   "execution_count": null,
   "id": "e554f203-c342-4882-a04e-af938ba96842",
   "metadata": {},
   "outputs": [],
   "source": []
  }
 ],
 "metadata": {
  "kernelspec": {
   "display_name": "Python 3 (ipykernel)",
   "language": "python",
   "name": "python3"
  },
  "language_info": {
   "codemirror_mode": {
    "name": "ipython",
    "version": 3
   },
   "file_extension": ".py",
   "mimetype": "text/x-python",
   "name": "python",
   "nbconvert_exporter": "python",
   "pygments_lexer": "ipython3",
   "version": "3.11.7"
  }
 },
 "nbformat": 4,
 "nbformat_minor": 5
}
