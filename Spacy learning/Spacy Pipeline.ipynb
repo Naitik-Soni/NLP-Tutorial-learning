{
 "cells": [
  {
   "cell_type": "code",
   "execution_count": 2,
   "id": "470a34cd-7003-478c-8ede-fe26ae40be89",
   "metadata": {},
   "outputs": [],
   "source": [
    "import spacy"
   ]
  },
  {
   "cell_type": "code",
   "execution_count": 3,
   "id": "0049a561-7a81-4b1e-983c-433e1ae55c18",
   "metadata": {},
   "outputs": [],
   "source": [
    "nlp = spacy.load(\"en_core_web_sm\")"
   ]
  },
  {
   "cell_type": "code",
   "execution_count": 4,
   "id": "1dc9945f-4f19-4d0d-88d1-23f31fca27ae",
   "metadata": {},
   "outputs": [
    {
     "data": {
      "text/plain": [
       "[('tok2vec', <spacy.pipeline.tok2vec.Tok2Vec at 0x2bf3f2a6b10>),\n",
       " ('tagger', <spacy.pipeline.tagger.Tagger at 0x2bf3f2a69f0>),\n",
       " ('parser', <spacy.pipeline.dep_parser.DependencyParser at 0x2bf3f16f0d0>),\n",
       " ('attribute_ruler',\n",
       "  <spacy.pipeline.attributeruler.AttributeRuler at 0x2bf3f2d9b50>),\n",
       " ('lemmatizer', <spacy.lang.en.lemmatizer.EnglishLemmatizer at 0x2bf3f2c2490>),\n",
       " ('ner', <spacy.pipeline.ner.EntityRecognizer at 0x2bf3f16ee30>)]"
      ]
     },
     "execution_count": 4,
     "metadata": {},
     "output_type": "execute_result"
    }
   ],
   "source": [
    "nlp.pipeline"
   ]
  },
  {
   "cell_type": "code",
   "execution_count": 5,
   "id": "b66d8bcf-2e1e-4139-8f0d-7085dd655b52",
   "metadata": {},
   "outputs": [],
   "source": [
    "doc = nlp(\"Hey! Tesla what are you doing with mine bicycle?\")"
   ]
  },
  {
   "cell_type": "code",
   "execution_count": 6,
   "id": "2a4ae01a-f55b-4784-9d49-fbb20c19c69e",
   "metadata": {},
   "outputs": [
    {
     "name": "stdout",
     "output_type": "stream",
     "text": [
      "Hey INTJ hey\n",
      "! PUNCT !\n",
      "Tesla PROPN Tesla\n",
      "what PRON what\n",
      "are AUX be\n",
      "you PRON you\n",
      "doing VERB do\n",
      "with ADP with\n",
      "mine NOUN mine\n",
      "bicycle NOUN bicycle\n",
      "? PUNCT ?\n"
     ]
    }
   ],
   "source": [
    "for token in doc:\n",
    "    print(token, token.pos_, token.lemma_)"
   ]
  },
  {
   "cell_type": "code",
   "execution_count": 7,
   "id": "91b26232-f866-42e3-a97c-0f3879fd0e19",
   "metadata": {},
   "outputs": [
    {
     "name": "stdout",
     "output_type": "stream",
     "text": [
      "Tesla | PERSON | People, including fictional\n"
     ]
    }
   ],
   "source": [
    "for ent in doc.ents:\n",
    "    print(ent.text, \"|\", ent.label_, \"|\", spacy.explain(ent.label_))"
   ]
  },
  {
   "cell_type": "code",
   "execution_count": 8,
   "id": "88be2a81-ec4e-45ce-ab87-3bff959e05ec",
   "metadata": {},
   "outputs": [
    {
     "data": {
      "text/html": [
       "<span class=\"tex2jax_ignore\"><div class=\"entities\" style=\"line-height: 2.5; direction: ltr\">Hey! \n",
       "<mark class=\"entity\" style=\"background: #aa9cfc; padding: 0.45em 0.6em; margin: 0 0.25em; line-height: 1; border-radius: 0.35em;\">\n",
       "    Tesla\n",
       "    <span style=\"font-size: 0.8em; font-weight: bold; line-height: 1; border-radius: 0.35em; vertical-align: middle; margin-left: 0.5rem\">PERSON</span>\n",
       "</mark>\n",
       " what are you doing with mine bicycle?</div></span>"
      ],
      "text/plain": [
       "<IPython.core.display.HTML object>"
      ]
     },
     "metadata": {},
     "output_type": "display_data"
    }
   ],
   "source": [
    "from spacy import displacy\n",
    "\n",
    "displacy.render(doc, style=\"ent\")"
   ]
  },
  {
   "cell_type": "code",
   "execution_count": null,
   "id": "bc612a85-1039-43fd-91c5-a55f7da503c2",
   "metadata": {},
   "outputs": [],
   "source": []
  }
 ],
 "metadata": {
  "kernelspec": {
   "display_name": "Python 3 (ipykernel)",
   "language": "python",
   "name": "python3"
  },
  "language_info": {
   "codemirror_mode": {
    "name": "ipython",
    "version": 3
   },
   "file_extension": ".py",
   "mimetype": "text/x-python",
   "name": "python",
   "nbconvert_exporter": "python",
   "pygments_lexer": "ipython3",
   "version": "3.11.7"
  }
 },
 "nbformat": 4,
 "nbformat_minor": 5
}
